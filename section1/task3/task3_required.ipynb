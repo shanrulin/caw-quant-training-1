{
 "cells": [
  {
   "cell_type": "code",
   "execution_count": null,
   "metadata": {},
   "outputs": [],
   "source": [
    "### Required\n",
    "\n",
    "#### 1. **Use Etherscan Python SDK** to get on-chain data"
   ]
  },
  {
   "cell_type": "markdown",
   "metadata": {},
   "source": [
    "### - [ ] play and combine scripts in examples/accounts"
   ]
  },
  {
   "cell_type": "code",
   "execution_count": 1,
   "metadata": {},
   "outputs": [],
   "source": [
    "from etherscan.accounts import Account\n",
    "import json\n",
    "\n",
    "\n",
    "#address=0xddbd2b932c763ba5b1b7ae3b362eac3e8d40121a\n",
    "#0x9dd134d14d1e65f84b706d6f205cd5b1cd03a46b\n",
    "\n",
    "# import api key\n",
    "with open('api_key.json', mode='r') as key_file:\n",
    "    key = json.loads(key_file.read())['key']\n",
    "\n",
    "\n",
    "# Setup api for single address\n",
    "address = '0x2a65aca4d5fc5b5c859090a6c34d164135398226'\n",
    "api = Account(address=address, api_key=key)"
   ]
  },
  {
   "cell_type": "code",
   "execution_count": 2,
   "metadata": {},
   "outputs": [
    {
     "data": {
      "text/plain": [
       "'2517932069507380044250'"
      ]
     },
     "execution_count": 2,
     "metadata": {},
     "output_type": "execute_result"
    }
   ],
   "source": [
    "## get balance\n",
    "api.get_balance()"
   ]
  },
  {
   "cell_type": "code",
   "execution_count": 26,
   "metadata": {},
   "outputs": [],
   "source": [
    "trans_page = api.get_transaction_page(page=1, offset=2)"
   ]
  },
  {
   "cell_type": "code",
   "execution_count": 49,
   "metadata": {},
   "outputs": [
    {
     "data": {
      "text/plain": [
       "[{'blockNumber': '255739',\n",
       "  'timeStamp': '1442634804',\n",
       "  'hash': '0xc30cc2747ebf44333db4530b41429caad7b725cce200718a892d7841f844cdff',\n",
       "  'nonce': '0',\n",
       "  'blockHash': '0xbfe6513c3ce839d50e2fad5daca565b2268fcbce3107b68f8f363b34d0ab3e95',\n",
       "  'transactionIndex': '0',\n",
       "  'from': '0x2a65aca4d5fc5b5c859090a6c34d164135398226',\n",
       "  'to': '0x5de0ad03712e56a2c60b8e693b7893f0bf04e7be',\n",
       "  'value': '1122263511300000000',\n",
       "  'gas': '90000',\n",
       "  'gasPrice': '50000000000',\n",
       "  'isError': '0',\n",
       "  'txreceipt_status': '',\n",
       "  'input': '0x',\n",
       "  'contractAddress': '',\n",
       "  'cumulativeGasUsed': '21000',\n",
       "  'gasUsed': '21000',\n",
       "  'confirmations': '10805144'},\n",
       " {'blockNumber': '255756',\n",
       "  'timeStamp': '1442635221',\n",
       "  'hash': '0x7c6491e0da2dddaf04487d02c75f98ebc7152d2ffff0c7580ef8d3551f70874e',\n",
       "  'nonce': '1',\n",
       "  'blockHash': '0xcd429ea10dcb36ba3ac222aa3f761f151e4adcc62a7909f5eb72b30a277e5f51',\n",
       "  'transactionIndex': '0',\n",
       "  'from': '0x2a65aca4d5fc5b5c859090a6c34d164135398226',\n",
       "  'to': '0x267069452478ca39b3f5f1a4ffdd4131f50bc977',\n",
       "  'value': '42673125594900000000',\n",
       "  'gas': '90000',\n",
       "  'gasPrice': '50000000000',\n",
       "  'isError': '0',\n",
       "  'txreceipt_status': '',\n",
       "  'input': '0x',\n",
       "  'contractAddress': '',\n",
       "  'cumulativeGasUsed': '21000',\n",
       "  'gasUsed': '21000',\n",
       "  'confirmations': '10805127'}]"
      ]
     },
     "execution_count": 49,
     "metadata": {},
     "output_type": "execute_result"
    }
   ],
   "source": [
    "trans_page"
   ]
  },
  {
   "cell_type": "code",
   "execution_count": 27,
   "metadata": {},
   "outputs": [
    {
     "data": {
      "text/html": [
       "<div>\n",
       "<style scoped>\n",
       "    .dataframe tbody tr th:only-of-type {\n",
       "        vertical-align: middle;\n",
       "    }\n",
       "\n",
       "    .dataframe tbody tr th {\n",
       "        vertical-align: top;\n",
       "    }\n",
       "\n",
       "    .dataframe thead th {\n",
       "        text-align: right;\n",
       "    }\n",
       "</style>\n",
       "<table border=\"1\" class=\"dataframe\">\n",
       "  <thead>\n",
       "    <tr style=\"text-align: right;\">\n",
       "      <th></th>\n",
       "      <th>blockNumber</th>\n",
       "      <th>timeStamp</th>\n",
       "      <th>hash</th>\n",
       "      <th>nonce</th>\n",
       "      <th>blockHash</th>\n",
       "      <th>transactionIndex</th>\n",
       "      <th>from</th>\n",
       "      <th>to</th>\n",
       "      <th>value</th>\n",
       "      <th>gas</th>\n",
       "      <th>gasPrice</th>\n",
       "      <th>isError</th>\n",
       "      <th>txreceipt_status</th>\n",
       "      <th>input</th>\n",
       "      <th>contractAddress</th>\n",
       "      <th>cumulativeGasUsed</th>\n",
       "      <th>gasUsed</th>\n",
       "      <th>confirmations</th>\n",
       "    </tr>\n",
       "  </thead>\n",
       "  <tbody>\n",
       "    <tr>\n",
       "      <th>0</th>\n",
       "      <td>255739</td>\n",
       "      <td>1442634804</td>\n",
       "      <td>0xc30cc2747ebf44333db4530b41429caad7b725cce200...</td>\n",
       "      <td>0</td>\n",
       "      <td>0xbfe6513c3ce839d50e2fad5daca565b2268fcbce3107...</td>\n",
       "      <td>0</td>\n",
       "      <td>0x2a65aca4d5fc5b5c859090a6c34d164135398226</td>\n",
       "      <td>0x5de0ad03712e56a2c60b8e693b7893f0bf04e7be</td>\n",
       "      <td>1122263511300000000</td>\n",
       "      <td>90000</td>\n",
       "      <td>50000000000</td>\n",
       "      <td>0</td>\n",
       "      <td></td>\n",
       "      <td>0x</td>\n",
       "      <td></td>\n",
       "      <td>21000</td>\n",
       "      <td>21000</td>\n",
       "      <td>10805144</td>\n",
       "    </tr>\n",
       "    <tr>\n",
       "      <th>1</th>\n",
       "      <td>255756</td>\n",
       "      <td>1442635221</td>\n",
       "      <td>0x7c6491e0da2dddaf04487d02c75f98ebc7152d2ffff0...</td>\n",
       "      <td>1</td>\n",
       "      <td>0xcd429ea10dcb36ba3ac222aa3f761f151e4adcc62a79...</td>\n",
       "      <td>0</td>\n",
       "      <td>0x2a65aca4d5fc5b5c859090a6c34d164135398226</td>\n",
       "      <td>0x267069452478ca39b3f5f1a4ffdd4131f50bc977</td>\n",
       "      <td>42673125594900000000</td>\n",
       "      <td>90000</td>\n",
       "      <td>50000000000</td>\n",
       "      <td>0</td>\n",
       "      <td></td>\n",
       "      <td>0x</td>\n",
       "      <td></td>\n",
       "      <td>21000</td>\n",
       "      <td>21000</td>\n",
       "      <td>10805127</td>\n",
       "    </tr>\n",
       "  </tbody>\n",
       "</table>\n",
       "</div>"
      ],
      "text/plain": [
       "  blockNumber   timeStamp                                               hash  \\\n",
       "0      255739  1442634804  0xc30cc2747ebf44333db4530b41429caad7b725cce200...   \n",
       "1      255756  1442635221  0x7c6491e0da2dddaf04487d02c75f98ebc7152d2ffff0...   \n",
       "\n",
       "  nonce                                          blockHash transactionIndex  \\\n",
       "0     0  0xbfe6513c3ce839d50e2fad5daca565b2268fcbce3107...                0   \n",
       "1     1  0xcd429ea10dcb36ba3ac222aa3f761f151e4adcc62a79...                0   \n",
       "\n",
       "                                         from  \\\n",
       "0  0x2a65aca4d5fc5b5c859090a6c34d164135398226   \n",
       "1  0x2a65aca4d5fc5b5c859090a6c34d164135398226   \n",
       "\n",
       "                                           to                 value    gas  \\\n",
       "0  0x5de0ad03712e56a2c60b8e693b7893f0bf04e7be   1122263511300000000  90000   \n",
       "1  0x267069452478ca39b3f5f1a4ffdd4131f50bc977  42673125594900000000  90000   \n",
       "\n",
       "      gasPrice isError txreceipt_status input contractAddress  \\\n",
       "0  50000000000       0                     0x                   \n",
       "1  50000000000       0                     0x                   \n",
       "\n",
       "  cumulativeGasUsed gasUsed confirmations  \n",
       "0             21000   21000      10805144  \n",
       "1             21000   21000      10805127  "
      ]
     },
     "execution_count": 27,
     "metadata": {},
     "output_type": "execute_result"
    }
   ],
   "source": [
    "import pandas as pd\n",
    "df_trans_page = pd.DataFrame(trans_page)\n",
    "df_trans_page"
   ]
  },
  {
   "cell_type": "code",
   "execution_count": 28,
   "metadata": {},
   "outputs": [
    {
     "data": {
      "text/html": [
       "<div>\n",
       "<style scoped>\n",
       "    .dataframe tbody tr th:only-of-type {\n",
       "        vertical-align: middle;\n",
       "    }\n",
       "\n",
       "    .dataframe tbody tr th {\n",
       "        vertical-align: top;\n",
       "    }\n",
       "\n",
       "    .dataframe thead th {\n",
       "        text-align: right;\n",
       "    }\n",
       "</style>\n",
       "<table border=\"1\" class=\"dataframe\">\n",
       "  <thead>\n",
       "    <tr style=\"text-align: right;\">\n",
       "      <th></th>\n",
       "      <th>blockNumber</th>\n",
       "      <th>timeStamp</th>\n",
       "      <th>blockReward</th>\n",
       "    </tr>\n",
       "  </thead>\n",
       "  <tbody>\n",
       "    <tr>\n",
       "      <th>0</th>\n",
       "      <td>9551218</td>\n",
       "      <td>1582614783</td>\n",
       "      <td>2038224853154521505</td>\n",
       "    </tr>\n",
       "    <tr>\n",
       "      <th>1</th>\n",
       "      <td>9549967</td>\n",
       "      <td>1582597884</td>\n",
       "      <td>2001125815000000000</td>\n",
       "    </tr>\n",
       "    <tr>\n",
       "      <th>2</th>\n",
       "      <td>9549800</td>\n",
       "      <td>1582595927</td>\n",
       "      <td>2011632386136953711</td>\n",
       "    </tr>\n",
       "    <tr>\n",
       "      <th>3</th>\n",
       "      <td>9549713</td>\n",
       "      <td>1582594942</td>\n",
       "      <td>2061904182758755009</td>\n",
       "    </tr>\n",
       "    <tr>\n",
       "      <th>4</th>\n",
       "      <td>9549421</td>\n",
       "      <td>1582591002</td>\n",
       "      <td>2009840747448732541</td>\n",
       "    </tr>\n",
       "    <tr>\n",
       "      <th>5</th>\n",
       "      <td>9549336</td>\n",
       "      <td>1582589830</td>\n",
       "      <td>2024981296794488578</td>\n",
       "    </tr>\n",
       "    <tr>\n",
       "      <th>6</th>\n",
       "      <td>9549277</td>\n",
       "      <td>1582588925</td>\n",
       "      <td>2079920436778163265</td>\n",
       "    </tr>\n",
       "    <tr>\n",
       "      <th>7</th>\n",
       "      <td>9548713</td>\n",
       "      <td>1582581495</td>\n",
       "      <td>2085798323395649359</td>\n",
       "    </tr>\n",
       "    <tr>\n",
       "      <th>8</th>\n",
       "      <td>9548626</td>\n",
       "      <td>1582580397</td>\n",
       "      <td>2003909842050000000</td>\n",
       "    </tr>\n",
       "    <tr>\n",
       "      <th>9</th>\n",
       "      <td>9548136</td>\n",
       "      <td>1582573448</td>\n",
       "      <td>2027296305694294421</td>\n",
       "    </tr>\n",
       "  </tbody>\n",
       "</table>\n",
       "</div>"
      ],
      "text/plain": [
       "  blockNumber   timeStamp          blockReward\n",
       "0     9551218  1582614783  2038224853154521505\n",
       "1     9549967  1582597884  2001125815000000000\n",
       "2     9549800  1582595927  2011632386136953711\n",
       "3     9549713  1582594942  2061904182758755009\n",
       "4     9549421  1582591002  2009840747448732541\n",
       "5     9549336  1582589830  2024981296794488578\n",
       "6     9549277  1582588925  2079920436778163265\n",
       "7     9548713  1582581495  2085798323395649359\n",
       "8     9548626  1582580397  2003909842050000000\n",
       "9     9548136  1582573448  2027296305694294421"
      ]
     },
     "execution_count": 28,
     "metadata": {},
     "output_type": "execute_result"
    }
   ],
   "source": [
    "blocks_minded = api.get_blocks_mined_page(page=1, offset=10, blocktype='blocks')\n",
    "pd.DataFrame(blocks_minded)"
   ]
  },
  {
   "cell_type": "code",
   "execution_count": 5,
   "metadata": {},
   "outputs": [],
   "source": [
    "#help('etherscan')\n",
    "\n",
    "#PACKAGE CONTENTS\n",
    "#    accounts\n",
    "#    client\n",
    "#    contracts\n",
    "#    errors\n",
    "#    etherscan\n",
    "#    proxies\n",
    "#    stats\n",
    "#    tokens"
   ]
  },
  {
   "cell_type": "markdown",
   "metadata": {},
   "source": [
    "### - [ ] play and combine scripts in examples/blocks"
   ]
  },
  {
   "cell_type": "code",
   "execution_count": 6,
   "metadata": {},
   "outputs": [
    {
     "ename": "ModuleNotFoundError",
     "evalue": "No module named 'etherscan.blocks'",
     "output_type": "error",
     "traceback": [
      "\u001b[1;31m---------------------------------------------------------------------------\u001b[0m",
      "\u001b[1;31mModuleNotFoundError\u001b[0m                       Traceback (most recent call last)",
      "\u001b[1;32m<ipython-input-6-3c44e4f1b8c5>\u001b[0m in \u001b[0;36m<module>\u001b[1;34m\u001b[0m\n\u001b[1;32m----> 1\u001b[1;33m \u001b[1;32mfrom\u001b[0m \u001b[0metherscan\u001b[0m\u001b[1;33m.\u001b[0m\u001b[0mblocks\u001b[0m \u001b[1;32mimport\u001b[0m \u001b[0mBlocks\u001b[0m\u001b[1;33m\u001b[0m\u001b[1;33m\u001b[0m\u001b[0m\n\u001b[0m\u001b[0;32m      2\u001b[0m \u001b[1;33m\u001b[0m\u001b[0m\n\u001b[0;32m      3\u001b[0m \u001b[0mblock\u001b[0m \u001b[1;33m=\u001b[0m \u001b[1;36m9551218\u001b[0m\u001b[1;33m\u001b[0m\u001b[1;33m\u001b[0m\u001b[0m\n\u001b[0;32m      4\u001b[0m \u001b[0mapi_block\u001b[0m \u001b[1;33m=\u001b[0m \u001b[0mBlocks\u001b[0m\u001b[1;33m(\u001b[0m\u001b[0mapi_key\u001b[0m\u001b[1;33m=\u001b[0m\u001b[0mkey\u001b[0m\u001b[1;33m)\u001b[0m\u001b[1;33m\u001b[0m\u001b[1;33m\u001b[0m\u001b[0m\n\u001b[0;32m      5\u001b[0m \u001b[1;33m\u001b[0m\u001b[0m\n",
      "\u001b[1;31mModuleNotFoundError\u001b[0m: No module named 'etherscan.blocks'"
     ]
    }
   ],
   "source": [
    "### No module named 'etherscan.blocks'...\n",
    "#from etherscan.blocks import Blocks\n",
    "\n",
    "#block = 9551218\n",
    "#api_block = Blocks(api_key=key)\n",
    "\n",
    "# Get the block reward\n",
    "#reward = api_block.get_block_reward(block)\n",
    "#reward"
   ]
  },
  {
   "cell_type": "markdown",
   "metadata": {},
   "source": [
    "### - [ ] play and combine scripts in examples/contracts"
   ]
  },
  {
   "cell_type": "code",
   "execution_count": 30,
   "metadata": {},
   "outputs": [
    {
     "name": "stdout",
     "output_type": "stream",
     "text": [
      "[{\"constant\":true,\"inputs\":[{\"name\":\"\",\"type\":\"uint256\"}],\"name\":\"proposals\",\"outputs\":[{\"name\":\"recipient\",\"type\":\"address\"},{\"name\":\"amount\",\"type\":\"uint256\"},{\"name\":\"description\",\"type\":\"string\"},{\"name\":\"votingDeadline\",\"type\":\"uint256\"},{\"name\":\"executed\",\"type\":\"bool\"},{\"name\":\"proposalPassed\",\"type\":\"bool\"},{\"name\":\"numberOfVotes\",\"type\":\"uint256\"},{\"name\":\"currentResult\",\"type\":\"int256\"},{\"name\":\"proposalHash\",\"type\":\"bytes32\"}],\"type\":\"function\"},{\"constant\":false,\"inputs\":[{\"name\":\"proposalNumber\",\"type\":\"uint256\"},{\"name\":\"transactionBytecode\",\"type\":\"bytes\"}],\"name\":\"executeProposal\",\"outputs\":[{\"name\":\"result\",\"type\":\"int256\"}],\"type\":\"function\"},{\"constant\":true,\"inputs\":[{\"name\":\"\",\"type\":\"address\"}],\"name\":\"memberId\",\"outputs\":[{\"name\":\"\",\"type\":\"uint256\"}],\"type\":\"function\"},{\"constant\":true,\"inputs\":[],\"name\":\"numProposals\",\"outputs\":[{\"name\":\"\",\"type\":\"uint256\"}],\"type\":\"function\"},{\"constant\":true,\"inputs\":[],\"name\":\"priceOfAUnicornInFinney\",\"outputs\":[{\"name\":\"\",\"type\":\"uint256\"}],\"type\":\"function\"},{\"constant\":false,\"inputs\":[{\"name\":\"newUnicornPriceInFinney\",\"type\":\"uint256\"},{\"name\":\"newUnicornAddress\",\"type\":\"address\"}],\"name\":\"changeUnicorn\",\"outputs\":[],\"type\":\"function\"},{\"constant\":true,\"inputs\":[{\"name\":\"\",\"type\":\"uint256\"}],\"name\":\"members\",\"outputs\":[{\"name\":\"member\",\"type\":\"address\"},{\"name\":\"voteWeight\",\"type\":\"uint256\"},{\"name\":\"canAddProposals\",\"type\":\"bool\"},{\"name\":\"name\",\"type\":\"string\"},{\"name\":\"memberSince\",\"type\":\"uint256\"}],\"type\":\"function\"},{\"constant\":true,\"inputs\":[],\"name\":\"debatingPeriodInMinutes\",\"outputs\":[{\"name\":\"\",\"type\":\"uint256\"}],\"type\":\"function\"},{\"constant\":true,\"inputs\":[],\"name\":\"minimumQuorum\",\"outputs\":[{\"name\":\"\",\"type\":\"uint256\"}],\"type\":\"function\"},{\"constant\":false,\"inputs\":[{\"name\":\"targetMember\",\"type\":\"address\"},{\"name\":\"voteWeight\",\"type\":\"uint256\"},{\"name\":\"canAddProposals\",\"type\":\"bool\"},{\"name\":\"memberName\",\"type\":\"string\"}],\"name\":\"changeMembership\",\"outputs\":[],\"type\":\"function\"},{\"constant\":false,\"inputs\":[{\"name\":\"beneficiary\",\"type\":\"address\"},{\"name\":\"weiAmount\",\"type\":\"uint256\"},{\"name\":\"JobDescription\",\"type\":\"string\"},{\"name\":\"transactionBytecode\",\"type\":\"bytes\"}],\"name\":\"newProposalInWei\",\"outputs\":[{\"name\":\"proposalID\",\"type\":\"uint256\"}],\"type\":\"function\"},{\"constant\":true,\"inputs\":[],\"name\":\"owner\",\"outputs\":[{\"name\":\"\",\"type\":\"address\"}],\"type\":\"function\"},{\"constant\":true,\"inputs\":[],\"name\":\"majorityMargin\",\"outputs\":[{\"name\":\"\",\"type\":\"int256\"}],\"type\":\"function\"},{\"constant\":true,\"inputs\":[],\"name\":\"unicornAddress\",\"outputs\":[{\"name\":\"\",\"type\":\"address\"}],\"type\":\"function\"},{\"constant\":false,\"inputs\":[{\"name\":\"beneficiary\",\"type\":\"address\"},{\"name\":\"etherAmount\",\"type\":\"uint256\"},{\"name\":\"JobDescription\",\"type\":\"string\"},{\"name\":\"transactionBytecode\",\"type\":\"bytes\"}],\"name\":\"newProposalInEther\",\"outputs\":[{\"name\":\"proposalID\",\"type\":\"uint256\"}],\"type\":\"function\"},{\"constant\":false,\"inputs\":[{\"name\":\"minimumQuorumForProposals\",\"type\":\"uint256\"},{\"name\":\"minutesForDebate\",\"type\":\"uint256\"},{\"name\":\"marginOfVotesForMajority\",\"type\":\"int256\"}],\"name\":\"changeVotingRules\",\"outputs\":[],\"type\":\"function\"},{\"constant\":false,\"inputs\":[{\"name\":\"proposalNumber\",\"type\":\"uint256\"},{\"name\":\"supportsProposal\",\"type\":\"bool\"},{\"name\":\"justificationText\",\"type\":\"string\"}],\"name\":\"vote\",\"outputs\":[{\"name\":\"voteID\",\"type\":\"uint256\"}],\"type\":\"function\"},{\"constant\":true,\"inputs\":[{\"name\":\"proposalNumber\",\"type\":\"uint256\"},{\"name\":\"beneficiary\",\"type\":\"address\"},{\"name\":\"amount\",\"type\":\"uint256\"},{\"name\":\"transactionBytecode\",\"type\":\"bytes\"}],\"name\":\"checkProposalCode\",\"outputs\":[{\"name\":\"codeChecksOut\",\"type\":\"bool\"}],\"type\":\"function\"},{\"constant\":false,\"inputs\":[{\"name\":\"newOwner\",\"type\":\"address\"}],\"name\":\"transferOwnership\",\"outputs\":[],\"type\":\"function\"},{\"inputs\":[{\"name\":\"minimumQuorumForProposals\",\"type\":\"uint256\"},{\"name\":\"minutesForDebate\",\"type\":\"uint256\"},{\"name\":\"marginOfVotesForMajority\",\"type\":\"int256\"},{\"name\":\"congressLeader\",\"type\":\"address\"}],\"type\":\"constructor\"},{\"anonymous\":false,\"inputs\":[{\"indexed\":false,\"name\":\"proposalID\",\"type\":\"uint256\"},{\"indexed\":false,\"name\":\"recipient\",\"type\":\"address\"},{\"indexed\":false,\"name\":\"amount\",\"type\":\"uint256\"},{\"indexed\":false,\"name\":\"description\",\"type\":\"string\"}],\"name\":\"ProposalAdded\",\"type\":\"event\"},{\"anonymous\":false,\"inputs\":[{\"indexed\":false,\"name\":\"proposalID\",\"type\":\"uint256\"},{\"indexed\":false,\"name\":\"position\",\"type\":\"bool\"},{\"indexed\":false,\"name\":\"voter\",\"type\":\"address\"},{\"indexed\":false,\"name\":\"justification\",\"type\":\"string\"}],\"name\":\"Voted\",\"type\":\"event\"},{\"anonymous\":false,\"inputs\":[{\"indexed\":false,\"name\":\"proposalID\",\"type\":\"uint256\"},{\"indexed\":false,\"name\":\"result\",\"type\":\"int256\"},{\"indexed\":false,\"name\":\"quorum\",\"type\":\"uint256\"},{\"indexed\":false,\"name\":\"active\",\"type\":\"bool\"}],\"name\":\"ProposalTallied\",\"type\":\"event\"},{\"anonymous\":false,\"inputs\":[{\"indexed\":false,\"name\":\"member\",\"type\":\"address\"}],\"name\":\"MembershipChanged\",\"type\":\"event\"},{\"anonymous\":false,\"inputs\":[{\"indexed\":false,\"name\":\"minimumQuorum\",\"type\":\"uint256\"},{\"indexed\":false,\"name\":\"debatingPeriodInMinutes\",\"type\":\"uint256\"},{\"indexed\":false,\"name\":\"majorityMargin\",\"type\":\"int256\"}],\"name\":\"ChangeOfRules\",\"type\":\"event\"}]\n"
     ]
    }
   ],
   "source": [
    "from etherscan.contracts import Contract\n",
    "\n",
    "address = '0xfb6916095ca1df60bb79ce92ce3ea74c37c5d359'\n",
    "\n",
    "api_contract = Contract(address=address, api_key=key)\n",
    "abi = api_contract.get_abi()\n",
    "print(abi)"
   ]
  },
  {
   "cell_type": "code",
   "execution_count": 47,
   "metadata": {},
   "outputs": [
    {
     "name": "stdout",
     "output_type": "stream",
     "text": [
      "<etherscan.contracts.Contract object at 0x000001E5D23DE608>\n"
     ]
    }
   ],
   "source": [
    "source_code = Contract(address=address, api_key=key)\n",
    "print(source_code)"
   ]
  },
  {
   "cell_type": "markdown",
   "metadata": {},
   "source": [
    "### - [ ] play and combine scripts in examples/proxies"
   ]
  },
  {
   "cell_type": "code",
   "execution_count": 10,
   "metadata": {},
   "outputs": [
    {
     "name": "stdout",
     "output_type": "stream",
     "text": [
      "0x91bd72\n"
     ]
    }
   ],
   "source": [
    "from etherscan.proxies import Proxies\n",
    "\n",
    "api_proxies = Proxies(api_key=key)\n",
    "block = api_proxies.get_block_by_number(9551218)\n",
    "print(block['number'])"
   ]
  },
  {
   "cell_type": "code",
   "execution_count": 34,
   "metadata": {},
   "outputs": [
    {
     "name": "stdout",
     "output_type": "stream",
     "text": [
      "53\n"
     ]
    }
   ],
   "source": [
    "tx_count = api_proxies.get_block_transaction_count_by_number(block_number='0x91bd72')\n",
    "print(int(tx_count, 16))"
   ]
  },
  {
   "cell_type": "code",
   "execution_count": 44,
   "metadata": {},
   "outputs": [
    {
     "data": {
      "text/html": [
       "<div>\n",
       "<style scoped>\n",
       "    .dataframe tbody tr th:only-of-type {\n",
       "        vertical-align: middle;\n",
       "    }\n",
       "\n",
       "    .dataframe tbody tr th {\n",
       "        vertical-align: top;\n",
       "    }\n",
       "\n",
       "    .dataframe thead th {\n",
       "        text-align: right;\n",
       "    }\n",
       "</style>\n",
       "<table border=\"1\" class=\"dataframe\">\n",
       "  <thead>\n",
       "    <tr style=\"text-align: right;\">\n",
       "      <th></th>\n",
       "      <th>blockHash</th>\n",
       "      <th>blockNumber</th>\n",
       "      <th>from</th>\n",
       "      <th>gas</th>\n",
       "      <th>gasPrice</th>\n",
       "      <th>hash</th>\n",
       "      <th>input</th>\n",
       "      <th>nonce</th>\n",
       "      <th>to</th>\n",
       "      <th>transactionIndex</th>\n",
       "      <th>value</th>\n",
       "      <th>v</th>\n",
       "      <th>r</th>\n",
       "      <th>s</th>\n",
       "    </tr>\n",
       "  </thead>\n",
       "  <tbody>\n",
       "    <tr>\n",
       "      <th>0</th>\n",
       "      <td>0xf64a12502afc36db3d29931a2148e5d6ddaa883a2a3c...</td>\n",
       "      <td>0x70839</td>\n",
       "      <td>0xc80fb22930b303b55df9b89901889126400add38</td>\n",
       "      <td>0x30d40</td>\n",
       "      <td>0xba43b7400</td>\n",
       "      <td>0x1e2910a262b1008d0616a0beb24c1a491d78771baa54...</td>\n",
       "      <td>0xfc36e15b000000000000000000000000000000000000...</td>\n",
       "      <td>0xa7</td>\n",
       "      <td>0x03fca6077d38dd99d0ce14ba32078bd2cda72d74</td>\n",
       "      <td>0x0</td>\n",
       "      <td>0x0</td>\n",
       "      <td>0x1c</td>\n",
       "      <td>0xe7ccdba116aa95ae8d9bdd02f619a0cdfc1f60c5740b...</td>\n",
       "      <td>0xf200df1921ea988d16280a0873b69cb782a54e8a596d...</td>\n",
       "    </tr>\n",
       "  </tbody>\n",
       "</table>\n",
       "</div>"
      ],
      "text/plain": [
       "                                           blockHash blockNumber  \\\n",
       "0  0xf64a12502afc36db3d29931a2148e5d6ddaa883a2a3c...     0x70839   \n",
       "\n",
       "                                         from      gas     gasPrice  \\\n",
       "0  0xc80fb22930b303b55df9b89901889126400add38  0x30d40  0xba43b7400   \n",
       "\n",
       "                                                hash  \\\n",
       "0  0x1e2910a262b1008d0616a0beb24c1a491d78771baa54...   \n",
       "\n",
       "                                               input nonce  \\\n",
       "0  0xfc36e15b000000000000000000000000000000000000...  0xa7   \n",
       "\n",
       "                                           to transactionIndex value     v  \\\n",
       "0  0x03fca6077d38dd99d0ce14ba32078bd2cda72d74              0x0   0x0  0x1c   \n",
       "\n",
       "                                                   r  \\\n",
       "0  0xe7ccdba116aa95ae8d9bdd02f619a0cdfc1f60c5740b...   \n",
       "\n",
       "                                                   s  \n",
       "0  0xf200df1921ea988d16280a0873b69cb782a54e8a596d...  "
      ]
     },
     "execution_count": 44,
     "metadata": {},
     "output_type": "execute_result"
    }
   ],
   "source": [
    "TX_HASH = '0x1e2910a262b1008d0616a0beb24c1a491d78771baa54a33e66065e03b1f46bc1'\n",
    "\n",
    "transaction = api_proxies.get_transaction_by_hash(tx_hash=TX_HASH)\n",
    "\n",
    "pd.DataFrame(transaction,index=[0])"
   ]
  },
  {
   "cell_type": "markdown",
   "metadata": {},
   "source": [
    "### - [ ] play and combine scripts in examples/stats"
   ]
  },
  {
   "cell_type": "code",
   "execution_count": 46,
   "metadata": {},
   "outputs": [
    {
     "data": {
      "text/html": [
       "<div>\n",
       "<style scoped>\n",
       "    .dataframe tbody tr th:only-of-type {\n",
       "        vertical-align: middle;\n",
       "    }\n",
       "\n",
       "    .dataframe tbody tr th {\n",
       "        vertical-align: top;\n",
       "    }\n",
       "\n",
       "    .dataframe thead th {\n",
       "        text-align: right;\n",
       "    }\n",
       "</style>\n",
       "<table border=\"1\" class=\"dataframe\">\n",
       "  <thead>\n",
       "    <tr style=\"text-align: right;\">\n",
       "      <th></th>\n",
       "      <th>ethbtc</th>\n",
       "      <th>ethbtc_timestamp</th>\n",
       "      <th>ethusd</th>\n",
       "      <th>ethusd_timestamp</th>\n",
       "    </tr>\n",
       "  </thead>\n",
       "  <tbody>\n",
       "    <tr>\n",
       "      <th>0</th>\n",
       "      <td>0.03298</td>\n",
       "      <td>1602772344</td>\n",
       "      <td>375.48</td>\n",
       "      <td>1602772346</td>\n",
       "    </tr>\n",
       "  </tbody>\n",
       "</table>\n",
       "</div>"
      ],
      "text/plain": [
       "    ethbtc ethbtc_timestamp  ethusd ethusd_timestamp\n",
       "0  0.03298       1602772344  375.48       1602772346"
      ]
     },
     "execution_count": 46,
     "metadata": {},
     "output_type": "execute_result"
    }
   ],
   "source": [
    "from etherscan.stats import Stats\n",
    "\n",
    "api_stats = Stats(api_key=key)\n",
    "last_price = api_stats.get_ether_last_price()\n",
    "#print(last_price)\n",
    "pd.DataFrame(last_price, index=[0])"
   ]
  },
  {
   "cell_type": "code",
   "execution_count": 16,
   "metadata": {},
   "outputs": [
    {
     "name": "stdout",
     "output_type": "stream",
     "text": [
      "113016282436500000000000000\n"
     ]
    }
   ],
   "source": [
    "ether_supply = api_stats.get_total_ether_supply()\n",
    "print(ether_supply)"
   ]
  },
  {
   "cell_type": "markdown",
   "metadata": {},
   "source": [
    "### - [ ] play and combine scripts in examples/tokens"
   ]
  },
  {
   "cell_type": "code",
   "execution_count": 20,
   "metadata": {},
   "outputs": [
    {
     "data": {
      "text/plain": [
       "'135499'"
      ]
     },
     "execution_count": 20,
     "metadata": {},
     "output_type": "execute_result"
    }
   ],
   "source": [
    "from etherscan.tokens import Tokens\n",
    "\n",
    "contract_address = '0x57d90b64a1a57749b0f932f1a3395792e12e7055'\n",
    "address = \"0xe04f27eb70e025b78871a2ad7eabe85e61212761\"\n",
    "\n",
    "api_token = Tokens(contract_address=contract_address, api_key=key)\n",
    "\n",
    "# Get token balance of an address\n",
    "api_token.get_token_balance(address)"
   ]
  },
  {
   "cell_type": "code",
   "execution_count": 23,
   "metadata": {},
   "outputs": [
    {
     "data": {
      "text/plain": [
       "'21265524714464'"
      ]
     },
     "execution_count": 23,
     "metadata": {},
     "output_type": "execute_result"
    }
   ],
   "source": [
    "# Get total supply of tokens\n",
    "api_token.get_total_supply()"
   ]
  },
  {
   "cell_type": "markdown",
   "metadata": {},
   "source": [
    "### - [ ] play and combine scripts in examples/transactions"
   ]
  },
  {
   "cell_type": "code",
   "execution_count": 48,
   "metadata": {},
   "outputs": [],
   "source": [
    "### No module named 'etherscan.transactions'...\n",
    "#from etherscan.transactions import Transactions\n",
    "\n",
    "#api_trans = Transactions(api_key=key)\n",
    "#status = api_trans.get_status(tx_hash=TX_HASH)\n",
    "#print(status)\n",
    "\n",
    "#receipt_status = api_trans.get_tx_receipt_status(tx_hash=TX_HASH)\n",
    "#print(receipt_status)"
   ]
  }
 ],
 "metadata": {
  "kernelspec": {
   "display_name": "Python 3",
   "language": "python",
   "name": "python3"
  },
  "language_info": {
   "codemirror_mode": {
    "name": "ipython",
    "version": 3
   },
   "file_extension": ".py",
   "mimetype": "text/x-python",
   "name": "python",
   "nbconvert_exporter": "python",
   "pygments_lexer": "ipython3",
   "version": "3.7.6"
  }
 },
 "nbformat": 4,
 "nbformat_minor": 4
}
